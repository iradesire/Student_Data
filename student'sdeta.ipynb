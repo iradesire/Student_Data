{
 "cells": [
  {
   "cell_type": "code",
   "execution_count": null,
   "id": "77eebeb8-9e54-4a95-9cfe-61e2a57e6d0d",
   "metadata": {},
   "outputs": [],
   "source": [
    "student={}\n",
    "averages={}"
   ]
  },
  {
   "cell_type": "code",
   "execution_count": null,
   "id": "52a3d85e-a53e-44e6-99f9-d7e887d4bdf0",
   "metadata": {},
   "outputs": [],
   "source": [
    "def add_student_name_grade():\n",
    "    print(\"===Add the student name and grade====\")\n",
    "    name = input(\"enter your name: \")\n",
    "    grades_input=input(\"enter grades separate by commas: \")\n",
    "    grades=[int(grade.strip()) for grade in grades_input.split(',')]\n",
    "    student[name]=grades\n",
    "    print(f\"student {name} and their grade have been added: {student[name]}\")\n"
   ]
  },
  {
   "cell_type": "code",
   "execution_count": null,
   "id": "241c3111-ea41-4ffa-b71a-bacd67a0d135",
   "metadata": {},
   "outputs": [],
   "source": [
    "def The_average():\n",
    "    print(\"===Average===\")\n",
    "    name=input(\"Enter your name: \")\n",
    "\n",
    "    average=None\n",
    "    for key in student:\n",
    "        if key==name:\n",
    "            average=sum(student[key])/len(student[key])\n",
    "            averages[name]=average # to sto the averages in a dictionary\n",
    "            print(averages)\n",
    "            return\n",
    "    \n",
    "    print(\"Name is not found in student data\")\n"
   ]
  },
  {
   "cell_type": "code",
   "execution_count": null,
   "id": "acfd6e88-8b40-497f-a23d-afad20d3fbe5",
   "metadata": {},
   "outputs": [],
   "source": [
    "def top_grade_average():\n",
    "    print(\"===Top grade average===\")\n",
    "    for key in averages:\n",
    "        return max(averages.values())\n",
    "        print(max(averages.values()))"
   ]
  },
  {
   "cell_type": "code",
   "execution_count": null,
   "id": "830819d6-d07a-495c-9808-265ea44c6915",
   "metadata": {},
   "outputs": [],
   "source": [
    "def sort_student():\n",
    "    print(\"==sort==\")\n",
    "    d1=dict(sorted(student.items()))\n",
    "    print(d1)\n",
    "    "
   ]
  },
  {
   "cell_type": "code",
   "execution_count": null,
   "id": "df33c80b-1ed3-4f8c-9ef1-33a27d1b8dea",
   "metadata": {},
   "outputs": [],
   "source": [
    "def menu():\n",
    "    while True:\n",
    "        print(\"===MENU===\")\n",
    "        print(\"1.Add the student and their grades\")\n",
    "        print(\"2.Average\")\n",
    "        print(\"3,Top average grade\")\n",
    "        print(\"4.Sort student\")\n",
    "        print(\"5.Exit the program\")\n",
    "        choice=input(\"Enter the number 1-5\")\n",
    "        if(choice==\"1\"):\n",
    "            add_student_name_grade()\n",
    "        if(choice==\"2\"):\n",
    "            The_average()\n",
    "        elif(choice==\"3\"):\n",
    "            top_grade_average()\n",
    "        elif(choice==\"4\"):\n",
    "            sort_student()\n",
    "        elif(choice==\"5\"):\n",
    "            print(\"program closed\")\n",
    "            break\n",
    "        else:\n",
    "            print(\"please choice number(1-6)\")\n",
    "    "
   ]
  },
  {
   "cell_type": "code",
   "execution_count": null,
   "id": "6bfff242-430b-477c-b208-e7b1bd88a45f",
   "metadata": {},
   "outputs": [],
   "source": [
    "menu()"
   ]
  },
  {
   "cell_type": "code",
   "execution_count": null,
   "id": "dfdb35f3-e65d-4fff-90b2-2442d188a400",
   "metadata": {},
   "outputs": [],
   "source": []
  },
  {
   "cell_type": "code",
   "execution_count": null,
   "id": "583d55e7-f764-494d-ab32-e57bd0a695c0",
   "metadata": {},
   "outputs": [],
   "source": []
  }
 ],
 "metadata": {
  "kernelspec": {
   "display_name": "Python 3 (ipykernel)",
   "language": "python",
   "name": "python3"
  },
  "language_info": {
   "codemirror_mode": {
    "name": "ipython",
    "version": 3
   },
   "file_extension": ".py",
   "mimetype": "text/x-python",
   "name": "python",
   "nbconvert_exporter": "python",
   "pygments_lexer": "ipython3",
   "version": "3.13.2"
  }
 },
 "nbformat": 4,
 "nbformat_minor": 5
}
